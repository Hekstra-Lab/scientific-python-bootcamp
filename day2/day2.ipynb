{
 "cells": [
  {
   "cell_type": "markdown",
   "metadata": {},
   "source": [
    "# Scientific Python Bootcamp Day 2\n",
    "Prepared and presented by John Russell johnrussell@g.harvard.edu\n",
    "\n",
    "2021 Spring Version of this notebook is available on [GitHub](https://github.com/Hekstra-Lab/scientific-python-bootcamp)\n",
    "\n",
    "### Topics for the day\n",
    "- Review of numpy and matplotlib basics from day 1\n",
    "- More plotting - Labelling things\n",
    "- Advanced indexing - Argmax and Binary indexing\n",
    "- Random number generation \n",
    "- Random walks"
   ]
  },
  {
   "cell_type": "markdown",
   "metadata": {},
   "source": [
    "### Review: Essentials of numpy and plotting\n",
    "\n",
    "Let's consider the function\n",
    "\n",
    "$$ f(x) = x e^{-\\frac{x^2}{2}}\\cos(x)  \\hspace{8pt} \\text{for} -4 \\leq x \\leq 4.$$\n",
    "\n",
    "By way of a review we will\n",
    "\n",
    "1. Make an array to represent the values of this function.\n",
    "1. Plot this function\n",
    "1. Identify the maximum and the location of the maximum.\n",
    "1. Identify the minimum and the location of the minimum.\n",
    "\n",
    "First new skill: Binary Indexing\n",
    "\n",
    "Final task: Color the function according to the location of the maximum and minimum"
   ]
  },
  {
   "cell_type": "code",
   "execution_count": null,
   "metadata": {},
   "outputs": [],
   "source": [
    "import numpy as np\n",
    "import matplotlib.pyplot as plt"
   ]
  },
  {
   "cell_type": "code",
   "execution_count": null,
   "metadata": {},
   "outputs": [],
   "source": [
    "#this cell changes some matplotlib defaults to make plots nicer \n",
    "import matplotlib as mpl\n",
    "mpl.rc(\"font\", family='serif')\n",
    "mpl.rc(\"figure\", figsize=(9,6))\n",
    "%config InlineBackend.figure_format = 'retina'"
   ]
  },
  {
   "cell_type": "code",
   "execution_count": null,
   "metadata": {},
   "outputs": [],
   "source": [
    "# 1. Making the arrays\n",
    "x0 = np.linspace(-4,4,250)\n",
    "y0 = x0*np.exp(-x0**2/2)*np.cos(x0)"
   ]
  },
  {
   "cell_type": "code",
   "execution_count": null,
   "metadata": {},
   "outputs": [],
   "source": [
    "# 2. Making basic plots\n",
    "plt.plot(x0, y0)\n",
    "plt.show()"
   ]
  },
  {
   "cell_type": "code",
   "execution_count": null,
   "metadata": {},
   "outputs": [],
   "source": [
    "# Improved plot\n",
    "plt.plot(x0, y0)\n",
    "plt.title(\"$f(x) = x e^{-x^2/2} \\cos(x)$\")\n",
    "plt.xlabel('x')\n",
    "plt.ylabel('y = f(x)')\n",
    "plt.show()"
   ]
  },
  {
   "cell_type": "code",
   "execution_count": null,
   "metadata": {},
   "outputs": [],
   "source": [
    "#Find the maximum\n",
    "ymax = np.max(y0)\n",
    "ymax"
   ]
  },
  {
   "cell_type": "code",
   "execution_count": null,
   "metadata": {},
   "outputs": [],
   "source": [
    "#google \"numpy position of max\"\n",
    "max_idx = np.argmax(y0)\n",
    "xmax = x0[max_idx]"
   ]
  },
  {
   "cell_type": "code",
   "execution_count": null,
   "metadata": {},
   "outputs": [],
   "source": [
    "ymin = y0.min()\n",
    "min_idx = np.argmin(y0)\n",
    "xmin = x0[min_idx]"
   ]
  },
  {
   "cell_type": "code",
   "execution_count": null,
   "metadata": {},
   "outputs": [],
   "source": [
    "plt.plot(x0, y0)\n",
    "plt.axvline(xmax, ls='--', c='orange')\n",
    "plt.axhline(ymax, ls='--', c='orange')\n",
    "plt.axvline(xmin, ls='--', c='green')\n",
    "plt.axhline(ymin, ls='--', c='green')\n",
    "plt.title(f\"Maximum and Minium of f(x)\")\n",
    "plt.show()"
   ]
  },
  {
   "cell_type": "markdown",
   "metadata": {},
   "source": [
    "## Exercise 1\n",
    "\n",
    "This exercise is desinged to review what you learned yesterday and to begin to practice boolean indexing.\n",
    "\n",
    "The cell below generates two arrays: \n",
    "- `x` is the dependent variable which we will use for plotting\n",
    "- `y` is a 2-dimensional array that contains the values of 10 different functions of x, each one in its own column\n",
    "\n",
    "Below is a pictorial representation of what the array `y` contains.\n",
    "\n",
    "<img src=figures/y_table.png width=600px>\n",
    "\n",
    "The following cell makes a plot of all 10 different columns of `y`."
   ]
  },
  {
   "cell_type": "code",
   "execution_count": null,
   "metadata": {},
   "outputs": [],
   "source": [
    "x = np.linspace(-1,1, 300)\n",
    "y = np.load(\"exercise1_y.npy\")"
   ]
  },
  {
   "cell_type": "code",
   "execution_count": null,
   "metadata": {},
   "outputs": [],
   "source": [
    "for i in range(10):\n",
    "    plt.plot(x, y[:,i])\n",
    "plt.title(\"10 Random Functions\")\n",
    "plt.xlabel('x')\n",
    "plt.ylabel('y')\n",
    "plt.show()"
   ]
  },
  {
   "cell_type": "markdown",
   "metadata": {},
   "source": [
    "### Part a.\n",
    "\n",
    "Compute the average value of y for each of the 10 different functions, in other words, the average of each column. Which column has the largest average and which one has the smallest? *Do not use any loops for this problem!*\n",
    "\n",
    "*Hints*\n",
    "1.  A super loopy implementation would probably look something like:\n",
    "```\n",
    "rows, cols = y.shape()\n",
    "means = np.zeros(cols)\n",
    "for i in range(cols):\n",
    "    total = 0\n",
    "    for j in range(rows):\n",
    "         total += y[j,i]\n",
    "    means[i] = total/rows\n",
    "```\n",
    "\n",
    "1. If you start with that code, try eliminating the inner loop with a call to a numpy function first. Then get rid of the outer loop. It is possible to compute the average of the columns in a single line of numpy code."
   ]
  },
  {
   "cell_type": "code",
   "execution_count": null,
   "metadata": {},
   "outputs": [],
   "source": [
    "mean_y = np.mean(y, axis=0)"
   ]
  },
  {
   "cell_type": "code",
   "execution_count": null,
   "metadata": {},
   "outputs": [],
   "source": [
    "largest_mean = mean_y.max()\n",
    "smallest_mean = mean_y.min()\n",
    "idx_largest_mean = np.argmax(mean_y)\n",
    "idx_smallest_mean = np.argmin(mean_y)"
   ]
  },
  {
   "cell_type": "code",
   "execution_count": null,
   "metadata": {},
   "outputs": [],
   "source": [
    "print(\"y\",idx_largest_mean, \" has the largest mean\")\n",
    "print(\"y\",idx_smallest_mean, \" has the smallest mean\")"
   ]
  },
  {
   "cell_type": "markdown",
   "metadata": {},
   "source": [
    "### Part b.\n",
    "\n",
    "Make a plot showing the curves with the largest and smallest average values that you found in part a on the same axes. Include a legend that lists the average value of each curve as well as its index in the original array."
   ]
  },
  {
   "cell_type": "code",
   "execution_count": null,
   "metadata": {},
   "outputs": [],
   "source": []
  },
  {
   "cell_type": "markdown",
   "metadata": {},
   "source": [
    "### Part c.\n",
    "\n",
    "Compute the difference between the first and last point of each of the columns of y, in the notation of the image above this is $d_i = y_i(x_{299}) - y_i(x_0)$ for $0\\leq i < 10$. Which column has the largest difference and which has the smallest?"
   ]
  },
  {
   "cell_type": "code",
   "execution_count": null,
   "metadata": {},
   "outputs": [],
   "source": []
  },
  {
   "cell_type": "markdown",
   "metadata": {},
   "source": [
    "### Part d.\n",
    "\n",
    "Make a plot showing the curves with the largest and smallest net differences that you found in part c on the same axes. Include a legend that lists the value of the net difference for each curve."
   ]
  },
  {
   "cell_type": "code",
   "execution_count": null,
   "metadata": {},
   "outputs": [],
   "source": []
  },
  {
   "cell_type": "markdown",
   "metadata": {},
   "source": [
    "## Indexing with Binary Masks"
   ]
  },
  {
   "cell_type": "code",
   "execution_count": null,
   "metadata": {},
   "outputs": [],
   "source": [
    "arr = np.arange(20).reshape(4,5)\n",
    "arr"
   ]
  },
  {
   "cell_type": "markdown",
   "metadata": {},
   "source": [
    "Recall from yesterday's session all the ways we have seen to access elements of this array "
   ]
  },
  {
   "cell_type": "code",
   "execution_count": null,
   "metadata": {},
   "outputs": [],
   "source": [
    "# Specific index\n",
    "arr[2, 4]"
   ]
  },
  {
   "cell_type": "code",
   "execution_count": null,
   "metadata": {},
   "outputs": [],
   "source": [
    "# Slices\n",
    "arr[1:3,1:4]"
   ]
  },
  {
   "cell_type": "code",
   "execution_count": null,
   "metadata": {},
   "outputs": [],
   "source": [
    "# Using other arrays\n",
    "arr[np.array([1,3]), np.array([2,4])]"
   ]
  },
  {
   "cell_type": "code",
   "execution_count": null,
   "metadata": {},
   "outputs": [],
   "source": [
    "# More use of other arrays - get the diagonal\n",
    "arr[np.arange(4), np.arange(4)]"
   ]
  },
  {
   "cell_type": "markdown",
   "metadata": {},
   "source": [
    "Also recall that we can do mathematical operations on entire arrays. "
   ]
  },
  {
   "cell_type": "code",
   "execution_count": null,
   "metadata": {},
   "outputs": [],
   "source": [
    "2*arr - 3"
   ]
  },
  {
   "cell_type": "markdown",
   "metadata": {},
   "source": [
    "We can also do *logical operations* on arrays. The output of logical operations will be boolean arrays, arrays that only contain `True` or `False` elements."
   ]
  },
  {
   "cell_type": "code",
   "execution_count": null,
   "metadata": {},
   "outputs": [],
   "source": [
    "print(arr)\n",
    "print()\n",
    "print(arr > 10)"
   ]
  },
  {
   "cell_type": "code",
   "execution_count": null,
   "metadata": {},
   "outputs": [],
   "source": [
    "evens = arr%2==0"
   ]
  },
  {
   "cell_type": "code",
   "execution_count": null,
   "metadata": {},
   "outputs": [],
   "source": [
    "print(arr)\n",
    "print()\n",
    "print(evens)# % is the modulo operator, x%y gives the remainder when x is divided by y."
   ]
  },
  {
   "cell_type": "markdown",
   "metadata": {},
   "source": [
    "If we index the array with a boolean array of compatible shape, we can access the elements where the boolean array is `True`."
   ]
  },
  {
   "cell_type": "code",
   "execution_count": null,
   "metadata": {},
   "outputs": [],
   "source": [
    "arr[evens]"
   ]
  },
  {
   "cell_type": "markdown",
   "metadata": {},
   "source": [
    "### Final task\n",
    "\n",
    "Lets return to the function from beginning of the session to put binary indexing to some use. Recall that have found the locations of the minium, which we will call $x_{min}$ and $x_{max}$."
   ]
  },
  {
   "cell_type": "code",
   "execution_count": null,
   "metadata": {},
   "outputs": [],
   "source": [
    "print(\"y_min = \", ymin)\n",
    "print(\"x_min = \", xmin)"
   ]
  },
  {
   "cell_type": "markdown",
   "metadata": {},
   "source": [
    "Now we will make make a plot that shows $f(x)$ according to the following colorscheme: \n",
    "\n",
    "- Blue, where $x < x_{min}$\n",
    "- Green, where $x \\geq x_{min}$\n",
    "\n",
    "as can be seen below.\n",
    "\n",
    "<img src=\"figures/color_graph.png\" width = 400px>\n",
    "\n",
    "We will proceed as follows:\n",
    "1. Get the $x$ values that are less than $x_{min}$\n",
    "2. Get the corresponding $y$ values\n",
    "1. Get the $x$ values that are greater than or equal to $x_{min}$\n",
    "2. Get the corresponding $y$ values\n",
    "1. Plot"
   ]
  },
  {
   "cell_type": "code",
   "execution_count": null,
   "metadata": {},
   "outputs": [],
   "source": [
    "# Get x values less than xmin\n",
    "less_than_xmin = x0<xmin\n",
    "less_than_xmin"
   ]
  },
  {
   "cell_type": "code",
   "execution_count": null,
   "metadata": {},
   "outputs": [],
   "source": [
    "x_less = x0[less_than_xmin]"
   ]
  },
  {
   "cell_type": "code",
   "execution_count": null,
   "metadata": {},
   "outputs": [],
   "source": [
    "# Get y values that correspond to x<xmin\n",
    "y_less = y0[less_than_xmin]"
   ]
  },
  {
   "cell_type": "markdown",
   "metadata": {},
   "source": [
    "*Note:* Even though the criterion for selecting points depends on the x value, since `x0` and `y0` are the same shape, we can index `y0` using the same binary array."
   ]
  },
  {
   "cell_type": "code",
   "execution_count": null,
   "metadata": {},
   "outputs": [],
   "source": [
    "# Repeat process for x > xmin\n",
    "greater_than_xmin = x0>=xmin\n",
    "x_greater = x0[greater_than_xmin]\n",
    "y_greater = y0[greater_than_xmin]"
   ]
  },
  {
   "cell_type": "code",
   "execution_count": null,
   "metadata": {},
   "outputs": [],
   "source": [
    "# Plot them\n",
    "plt.plot(x_less, y_less, color='blue')\n",
    "plt.plot(x_greater, y_greater, color='green')\n",
    "plt.show()"
   ]
  },
  {
   "cell_type": "markdown",
   "metadata": {},
   "source": [
    "### Exercise 2\n",
    "\n",
    "#### Part a.\n",
    "\n",
    "For the curve at index 2 ($y_2(x)$ in the notation of the table), make a plot in which the curve is is colored blue where the function is positive and red where it is negative.\n",
    "\n",
    "*Hints* \n",
    "- You will need to use the same binary masks to index `x` and `y`.\n",
    "- The plot will look bad if you use the default styling. Use the following calls to plot: `plt.plot(your_x, your_y, 'o', markersize=2)`. The `'o'` specifies to draw each point in the plot as a dot rather than connecting them into a curve."
   ]
  },
  {
   "cell_type": "code",
   "execution_count": null,
   "metadata": {},
   "outputs": [],
   "source": []
  },
  {
   "cell_type": "markdown",
   "metadata": {},
   "source": [
    "#### Part b.\n",
    "\n",
    "Make a plot that shows all 10 curves from Exercise 1 colored according to the follwing scheme.\n",
    "\n",
    "1. Any functions that are always positive in blue\n",
    "2. Any functions that are always negative in red\n",
    "3. Any functions that are positive and negative in black\n",
    "\n",
    "*Hint* Google! Maybe something like \"numpy all true\"?"
   ]
  },
  {
   "cell_type": "code",
   "execution_count": null,
   "metadata": {},
   "outputs": [],
   "source": []
  },
  {
   "cell_type": "markdown",
   "metadata": {},
   "source": [
    "### Lets take a break here."
   ]
  },
  {
   "cell_type": "markdown",
   "metadata": {},
   "source": [
    "## Random numbers and random walks\n",
    "\n",
    "Random number generation is a surprisingly tricky thing to do on a computer which we generally think of as highly non-random. Strictly speaking, we will be talking about *pseudo*random number generation since its impossible to genereate truly random numbers. However it is important enough that lots work has gone into doing it well and many of the best implementations live in the `numpy.random` module.\n",
    "\n",
    "*Note*: The `numpy.random` module was changed significantly in summer of 2019 so what you'll see today is the modern usage. For compatibility reasons, numpy still supports the old way and you may well come across older code which will look slightly different.\n",
    "\n",
    "The core of the random module is a `Generator` object. The easiest and most likely best way to initialize one is"
   ]
  },
  {
   "cell_type": "code",
   "execution_count": null,
   "metadata": {},
   "outputs": [],
   "source": [
    "rng = np.random.default_rng() #rng stands for Random Number Generator"
   ]
  },
  {
   "cell_type": "markdown",
   "metadata": {},
   "source": [
    "The `Generator` object can then generate numbers from a vast array of different distributions. You can learn about these in a statistics class but I'll show a few examples."
   ]
  },
  {
   "cell_type": "code",
   "execution_count": null,
   "metadata": {},
   "outputs": [],
   "source": [
    "normal_samples = rng.normal(loc=10, scale=20, size=1000)"
   ]
  },
  {
   "cell_type": "code",
   "execution_count": null,
   "metadata": {},
   "outputs": [],
   "source": [
    "gamma_samples = rng.gamma(2, 4, size=1000)"
   ]
  },
  {
   "cell_type": "code",
   "execution_count": null,
   "metadata": {},
   "outputs": [],
   "source": [
    "pets = ['cat', 'dog', 'fish', 'rabbit']\n",
    "choice_samples = rng.choice(pets, size=5)"
   ]
  },
  {
   "cell_type": "code",
   "execution_count": null,
   "metadata": {},
   "outputs": [],
   "source": [
    "choice_samples"
   ]
  },
  {
   "cell_type": "markdown",
   "metadata": {},
   "source": [
    "#### Random Walks\n",
    "\n",
    "Random walks are a *very* powerful and widely used model in basically every area of science. One of the great things about random walks is that they are very easy to simulate and often analytically tractable though the math is much beyond the scope of this bootcamp. What is random walk?\n",
    "\n",
    "Here is the idea: a walker starts at some point and at each time point takes a \"random step.\" There are many ways to define a random step. \n",
    "- The original way as suggested by Pearson was in 2D, to take a step of fixed length but to randomly choose a direction. \n",
    "- Alternatively in 1D you could perform a \"coin flip\" and decide to take a step of fixed length to either the left or right.\n",
    "- Finally you could choose a step from a probability distribution. \n",
    "\n",
    "Typically, we simulate many random walkers and compile statistics based on the set of walkers. Lets compute option 2 in numpy. "
   ]
  },
  {
   "cell_type": "code",
   "execution_count": null,
   "metadata": {},
   "outputs": [],
   "source": [
    "steps = rng.choice([-1,1], size=(1000,500)) #1000 steps or time points, 500 walkers"
   ]
  },
  {
   "cell_type": "code",
   "execution_count": null,
   "metadata": {},
   "outputs": [],
   "source": [
    "positions = steps.cumsum(0)"
   ]
  },
  {
   "cell_type": "code",
   "execution_count": null,
   "metadata": {},
   "outputs": [],
   "source": [
    "plt.plot(positions[:,:10])\n",
    "plt.title(\"10 Random Walks\")\n",
    "plt.xlabel('Time')\n",
    "plt.ylabel('Position')\n",
    "plt.show()"
   ]
  },
  {
   "cell_type": "markdown",
   "metadata": {},
   "source": [
    "#### Compiling statistics\n",
    "\n",
    "Often the idea with simulating random walkers is that we simulate many of them and the calculate statistics as a function of time. Said slightly differently, we often average over the walkers rather than averaging over time. "
   ]
  },
  {
   "cell_type": "code",
   "execution_count": null,
   "metadata": {},
   "outputs": [],
   "source": [
    "positions.shape"
   ]
  },
  {
   "cell_type": "markdown",
   "metadata": {},
   "source": [
    "Remember that we have 500 walkers and 1000 time steps so the first dimension in this array is time and the second dimension is the walkers."
   ]
  },
  {
   "cell_type": "code",
   "execution_count": null,
   "metadata": {},
   "outputs": [],
   "source": [
    "mean = positions.mean(1)\n",
    "std = positions.std(1)"
   ]
  },
  {
   "cell_type": "code",
   "execution_count": null,
   "metadata": {},
   "outputs": [],
   "source": [
    "plt.plot(std, label=\"Std. Dev.\")\n",
    "plt.plot(mean, label='Mean')\n",
    "#fit standard deviation\n",
    "plt.legend()\n",
    "plt.show()"
   ]
  },
  {
   "cell_type": "markdown",
   "metadata": {},
   "source": [
    "#### Other questions we can ask\n",
    "\n",
    "With this set of random walker trajectories we can ask other questions beyond just calculating simple statistics. For instance, roughly what fraction of walkers only walk in the positive part of the number line?\n",
    "\n",
    "*Note* With only 500 walkers we dont really have enough to estimate complex quantites like this. Generally you might you as many as $10^6 - 10^9$ walkers but things do start to get slower at that point. "
   ]
  },
  {
   "cell_type": "code",
   "execution_count": null,
   "metadata": {},
   "outputs": [],
   "source": [
    "only_positive = np.all(positions>0, axis=0)"
   ]
  },
  {
   "cell_type": "code",
   "execution_count": null,
   "metadata": {},
   "outputs": [],
   "source": [
    "only_positive.sum()"
   ]
  },
  {
   "cell_type": "code",
   "execution_count": null,
   "metadata": {},
   "outputs": [],
   "source": [
    "positive_walkers = positions[:,only_positive]"
   ]
  },
  {
   "cell_type": "code",
   "execution_count": null,
   "metadata": {},
   "outputs": [],
   "source": [
    "plt.plot(positive_walkers)\n",
    "plt.title(\"Random walkers that are always positive\")\n",
    "plt.show()"
   ]
  },
  {
   "cell_type": "markdown",
   "metadata": {},
   "source": [
    "### Exercise 2\n",
    "\n",
    "*Note* Since we are generating random numbers your individual results may be different. \n",
    "\n",
    "\n",
    "#### Part a.\n",
    "\n",
    "Similate 100 random walkers each taking 1000 steps as above but rather than a \"coin flip\" to determine the step, have these walkers take a step to the right (+1) with probability 0.65 and a step to the left (-1) with probability 0.35 - this is often called a biased random walk. Make plot showing the trajectories of the walkers which ended up farthest from the origin and closest to the origin.\n",
    "\n",
    "*Hint* Read the documentation of `rng.choice`"
   ]
  },
  {
   "cell_type": "code",
   "execution_count": null,
   "metadata": {},
   "outputs": [],
   "source": []
  },
  {
   "cell_type": "markdown",
   "metadata": {},
   "source": [
    "#### Part b.\n",
    "\n",
    "- Compute the mean and standard deviation of these walkers as a function of time. \n",
    "- Plot the mean and standard deviation as a function of time on the same axes. \n",
    "- Plot $\\sqrt{t}$ as above and plot on the same axes. Does it still seem to describe the standard deiviation as a function of time?\n",
    "- **Optional** Can you come up with a function that describes the mean as a function of time? Plot this function as well. *Hint* How do you think the average depends on the probability of going right? Does your formula give the correct result from the demo above when $p=0.5$?"
   ]
  },
  {
   "cell_type": "code",
   "execution_count": null,
   "metadata": {},
   "outputs": [],
   "source": []
  },
  {
   "cell_type": "markdown",
   "metadata": {},
   "source": [
    "So the standard deviation is about the same, it growns like $\\sqrt{t}$. The average position grows linearly in time proportional to the difference between the probability of going right and the probability of going left. It also follows from this formula that if $p_R = p_L = 0.5$ the average position is constant at 0."
   ]
  },
  {
   "cell_type": "markdown",
   "metadata": {},
   "source": [
    "#### Part c. \n",
    "\n",
    "Rather than just walking up and down the number line, lets see what happens when the walk happens in two dimensions. Simulate 100 walkers each taking 1000 steps in the XY plane. Generate a 2D step by taking 2 independent samples from a standard normal distribution (mean=0, standard deviation=1). Plot 10 walks *in the XY plane*."
   ]
  },
  {
   "cell_type": "code",
   "execution_count": null,
   "metadata": {},
   "outputs": [],
   "source": []
  },
  {
   "cell_type": "markdown",
   "metadata": {},
   "source": [
    "#### Part d.\n",
    "\n",
    "Find the walkers which end up the farthest from the origin and the closest. Plot these two trajectories in the XY plane. *Hint* Given a point $(x,y)$ how do you compute the distance from the origin? Can you use numpy to compute the distance for all the walkers at all the time points without any loops?"
   ]
  },
  {
   "cell_type": "code",
   "execution_count": null,
   "metadata": {},
   "outputs": [],
   "source": []
  },
  {
   "cell_type": "markdown",
   "metadata": {},
   "source": [
    "#### Part e. \n",
    "\n",
    "Plot the trajectories of any walkers who remain in the first quadrant for their entire trajectory (i.e. $x(t)>0$ and $y(t)>0$ for all times $t$). You will probably want to simulate more walkers in order to find some who meet this criterion, it happens with probability ~0.05\\%.\n",
    "\n",
    "*Hint* We have not discussed how to use multiple binary arrays to index. Google it!"
   ]
  },
  {
   "cell_type": "code",
   "execution_count": null,
   "metadata": {},
   "outputs": [],
   "source": []
  },
  {
   "cell_type": "markdown",
   "metadata": {},
   "source": [
    "### Thanks for following along!\n",
    "\n",
    "- Please fill out the daily feedback survey [here](https://forms.gle/TsowzbhM52tLXi2K8) \n",
    "- Also feel free to send me an email johnrussell@g.harvard.edu with additional feedback\n",
    "- Some of the teaching staff will stick around if you have further questions\n",
    "- See you tomorrow night for the final session of the bootcamp!"
   ]
  }
 ],
 "metadata": {
  "kernelspec": {
   "display_name": "Python 3",
   "language": "python",
   "name": "python3"
  },
  "language_info": {
   "codemirror_mode": {
    "name": "ipython",
    "version": 3
   },
   "file_extension": ".py",
   "mimetype": "text/x-python",
   "name": "python",
   "nbconvert_exporter": "python",
   "pygments_lexer": "ipython3",
   "version": "3.9.1"
  }
 },
 "nbformat": 4,
 "nbformat_minor": 4
}
