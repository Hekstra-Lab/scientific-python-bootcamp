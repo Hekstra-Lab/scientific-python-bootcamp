{
 "cells": [
  {
   "cell_type": "code",
   "execution_count": 2,
   "metadata": {},
   "outputs": [],
   "source": [
    "import numpy as np\n",
    "import matplotlib.pyplot as plt\n",
    "import matplotlib as mpl\n",
    "\n",
    "#These are some matplot lib configurations that I like to use. \n",
    "mpl.rc(\"text\", usetex=False) #if you have Latex set this to true and matplotlib will render labels in latex\n",
    "mpl.rc(\"font\", family = \"serif\") #Serif font in matplotlib\n",
    "mpl.rc(\"figure\",figsize=(9,6)) #Increase default figure size\n",
    "%config InlineBackend.figure_format = 'retina' #If you have a high res display, render the plots more nicely\n",
    "mpl.style.use('dark_background') #Use a dark background for matplotlib figures if youre using dark theme\n",
    "plt.rcParams.update({\"figure.facecolor\": \"111111\",})"
   ]
  },
  {
   "cell_type": "code",
   "execution_count": 3,
   "metadata": {},
   "outputs": [],
   "source": [
    "from scipy.integrate import solve_ivp"
   ]
  },
  {
   "cell_type": "code",
   "execution_count": 4,
   "metadata": {},
   "outputs": [],
   "source": [
    "def elastic_pendulum(t,y):\n",
    "    L, v, theta, w = y\n",
    "    dLdt = v\n",
    "    dvdt = L*w**2+ 1-L+ np.cos(theta)\n",
    "    dthetadt = w\n",
    "    dwdt = (-1/L)*(np.sin(theta)+2*w*v)\n",
    "    return np.array([dLdt,dvdt,dthetadt,dwdt])"
   ]
  },
  {
   "cell_type": "code",
   "execution_count": 5,
   "metadata": {},
   "outputs": [],
   "source": [
    "elastic_pendulum_sol = solve_ivp(elastic_pendulum,(0,100),y0=[2,0.2,1.5,-0.5],t_eval=np.linspace(0,50,5000))"
   ]
  },
  {
   "cell_type": "code",
   "execution_count": 6,
   "metadata": {},
   "outputs": [],
   "source": [
    "X = elastic_pendulum_sol.y[0]*np.sin(elastic_pendulum_sol.y[2])\n",
    "Y = -elastic_pendulum_sol.y[0]*np.cos(elastic_pendulum_sol.y[2])"
   ]
  },
  {
   "cell_type": "code",
   "execution_count": 7,
   "metadata": {},
   "outputs": [],
   "source": [
    "# taken from the very nice blog post https://scipython.com/blog/the-spring-pendulum/\n",
    "def plot_spring(L,theta):\n",
    "    \"\"\"Plot the spring from (0,0) to (x,y) as the projection of a helix.\"\"\"\n",
    "    # Spring turn radius, number of turns\n",
    "    rs, ns = 0.05, 25\n",
    "    # Number of data points for the helix\n",
    "    Ns = 1000\n",
    "    # We don't draw coils all the way to the end of the pendulum:\n",
    "    # pad a bit from the anchor and from the bob by these number of points\n",
    "    ipad1, ipad2 = 100, 150\n",
    "    w = np.linspace(0, L, Ns)\n",
    "    # Set up the helix along the x-axis ...\n",
    "    xp = np.zeros(Ns)\n",
    "    xp[ipad1:-ipad2] = rs * np.sin(2*np.pi * ns * w[ipad1:-ipad2] / L)\n",
    "    # ... then rotate it to align with  the pendulum and plot.\n",
    "    R = np.array([[np.cos(theta), -np.sin(theta)],\n",
    "                  [np.sin(theta), np.cos(theta)]])\n",
    "    xs, ys = - R @ np.vstack((xp, w))\n",
    "    plt.plot(xs, ys, c='w', lw=2)"
   ]
  },
  {
   "cell_type": "code",
   "execution_count": 8,
   "metadata": {},
   "outputs": [],
   "source": [
    "!mkdir tmp"
   ]
  },
  {
   "cell_type": "code",
   "execution_count": 10,
   "metadata": {},
   "outputs": [],
   "source": [
    "for i,t in enumerate(elastic_pendulum_sol.t[:100]):\n",
    "#for i in [10,100,1000,4000]:\n",
    "    fig = plt.figure(figsize=(10,10))\n",
    "    plt.plot(X[:i+1],Y[:i+1],alpha=0.6,c='xkcd:avocado')\n",
    "    plt.xlim([-3,3])\n",
    "    plt.ylim([-5,1])\n",
    "    plot_spring(elastic_pendulum_sol.y[0,i],elastic_pendulum_sol.y[2,i])\n",
    "    c1 = plt.Circle((X[i], Y[i]), .04, fc='r', ec='r', zorder=10)\n",
    "    plt.gca().add_patch(c1)\n",
    "    plt.savefig(f'tmp/img{i:04d}.png',dpi=200)\n",
    "    plt.close()\n",
    "    #plt.show()"
   ]
  },
  {
   "cell_type": "markdown",
   "metadata": {},
   "source": [
    "`ffmpeg` is a command line utility to make movies out of images. The syntax for using it is complicated but the line below should run on your computer if you have `ffmpeg` installed. Google it to find out how to install it as it varies by operating system.\n",
    "\n",
    "The next cell converts all the png files made in the previous cell to the movie `elastic_pendulum.mp4`."
   ]
  },
  {
   "cell_type": "code",
   "execution_count": null,
   "metadata": {},
   "outputs": [],
   "source": [
    "!ffmpeg -r 50 -i tmp/img%04d.png -c:v libx264 -vf fps=25 -pix_fmt yuv420p elastic_pendulum.mp4"
   ]
  },
  {
   "cell_type": "code",
   "execution_count": null,
   "metadata": {},
   "outputs": [],
   "source": [
    "#Remove all the images that were stitched together to make the movie\n",
    "!rm tmp/*.png"
   ]
  }
 ],
 "metadata": {
  "kernelspec": {
   "display_name": "Python 3",
   "language": "python",
   "name": "python3"
  },
  "language_info": {
   "codemirror_mode": {
    "name": "ipython",
    "version": 3
   },
   "file_extension": ".py",
   "mimetype": "text/x-python",
   "name": "python",
   "nbconvert_exporter": "python",
   "pygments_lexer": "ipython3",
   "version": "3.8.1"
  }
 },
 "nbformat": 4,
 "nbformat_minor": 4
}
