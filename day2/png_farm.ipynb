{
 "cells": [
  {
   "cell_type": "code",
   "execution_count": 9,
   "metadata": {},
   "outputs": [],
   "source": [
    "import numpy as np\n",
    "import matplotlib.pyplot as plt\n",
    "from scipy.integrate import solve_ivp\n",
    "plt.style.use('dark_background')"
   ]
  },
  {
   "cell_type": "code",
   "execution_count": null,
   "metadata": {},
   "outputs": [],
   "source": []
  },
  {
   "cell_type": "code",
   "execution_count": 2,
   "metadata": {},
   "outputs": [],
   "source": [
    "def elastic_pendulum(t,y):\n",
    "    L, v, theta, w = y\n",
    "    dLdt = v\n",
    "    dvdt = (1+L)*w**2-L+np.cos(theta)\n",
    "    dthetadt = w\n",
    "    dwdt = -np.sin(theta)/(1+L)-(2/(1+L))*v*w\n",
    "    return np.array([dLdt,dvdt,dthetadt,dwdt])"
   ]
  },
  {
   "cell_type": "code",
   "execution_count": 11,
   "metadata": {},
   "outputs": [],
   "source": [
    "elastic_pendulum_sol = solve_ivp(elastic_pendulum,(0,100),y0=[2,0,1.5,0.5],t_eval=np.linspace(0,50,5000))"
   ]
  },
  {
   "cell_type": "code",
   "execution_count": 12,
   "metadata": {},
   "outputs": [],
   "source": [
    "X = elastic_pendulum_sol.y[0]*np.sin(elastic_pendulum_sol.y[2])\n",
    "Y = -elastic_pendulum_sol.y[0]*np.cos(elastic_pendulum_sol.y[2])"
   ]
  },
  {
   "cell_type": "code",
   "execution_count": 13,
   "metadata": {},
   "outputs": [],
   "source": [
    "# taken from the very nice blog post https://scipython.com/blog/the-spring-pendulum/\n",
    "def plot_spring(L,theta):\n",
    "    \"\"\"Plot the spring from (0,0) to (x,y) as the projection of a helix.\"\"\"\n",
    "    # Spring turn radius, number of turns\n",
    "    rs, ns = 0.05, 25\n",
    "    # Number of data points for the helix\n",
    "    Ns = 1000\n",
    "    # We don't draw coils all the way to the end of the pendulum:\n",
    "    # pad a bit from the anchor and from the bob by these number of points\n",
    "    ipad1, ipad2 = 100, 150\n",
    "    w = np.linspace(0, L, Ns)\n",
    "    # Set up the helix along the x-axis ...\n",
    "    xp = np.zeros(Ns)\n",
    "    xp[ipad1:-ipad2] = rs * np.sin(2*np.pi * ns * w[ipad1:-ipad2] / L)\n",
    "    # ... then rotate it to align with  the pendulum and plot.\n",
    "    R = np.array([[np.cos(theta), -np.sin(theta)],\n",
    "                  [np.sin(theta), np.cos(theta)]])\n",
    "    xs, ys = - R @ np.vstack((xp, w))\n",
    "    plt.plot(xs, ys, c='w', lw=2)"
   ]
  },
  {
   "cell_type": "code",
   "execution_count": 1,
   "metadata": {},
   "outputs": [],
   "source": [
    "#!mkdir tmp\n",
    "#!rm tmp/*.png"
   ]
  },
  {
   "cell_type": "code",
   "execution_count": 17,
   "metadata": {},
   "outputs": [],
   "source": [
    "for i,t in enumerate(elastic_pendulum_sol.t):\n",
    "    fig = plt.figure(figsize=(10,10))\n",
    "    plt.plot(X[:i+1],Y[:i+1],alpha=0.6,c='xkcd:avocado')\n",
    "    plt.xlim([-3,3])\n",
    "    plt.ylim([-3,1])\n",
    "    plot_spring(elastic_pendulum_sol.y[0,i],elastic_pendulum_sol.y[2,i])\n",
    "    c1 = plt.Circle((X[i], Y[i]), .04, fc='r', ec='r', zorder=10)\n",
    "    plt.gca().add_patch(c1)\n",
    "    plt.savefig(f'tmp/img{i:04d}.png',dpi=200)\n",
    "    plt.close()"
   ]
  },
  {
   "cell_type": "code",
   "execution_count": null,
   "metadata": {},
   "outputs": [],
   "source": []
  }
 ],
 "metadata": {
  "kernelspec": {
   "display_name": "Python 3",
   "language": "python",
   "name": "python3"
  },
  "language_info": {
   "codemirror_mode": {
    "name": "ipython",
    "version": 3
   },
   "file_extension": ".py",
   "mimetype": "text/x-python",
   "name": "python",
   "nbconvert_exporter": "python",
   "pygments_lexer": "ipython3",
   "version": "3.7.4"
  }
 },
 "nbformat": 4,
 "nbformat_minor": 4
}
