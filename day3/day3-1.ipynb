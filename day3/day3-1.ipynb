{
 "cells": [
  {
   "cell_type": "markdown",
   "id": "contrary-quarter",
   "metadata": {},
   "source": [
    "# Scientific Python Bootcamp Day 3\n",
    "\n",
    "Prepared and presented by John Russell (johnrussell@g.harvard.edu) and Ian Hunt-Isaak (ianhuntisaak@g.harvard.edu)\n",
    "\n",
    "### Getting Started\n",
    "http://tinyurl.com/9ddaf9gy\n",
    "\n",
    "### Topics for Today\n",
    "\n",
    "- Review of jupyter lab\n",
    "- Random numbers and random walks \n",
    "- Introduction to the scientific python ecosystem\n",
    "- Local installation of jupyter lab\n",
    "\n",
    "### Jupyter Lab Review\n",
    "\n",
    "**The Essentials**\n",
    "- `Shift + Enter` executes a cell\n",
    "- `Shift + Tab` shows the documentation of a function\n",
    "- `Tab` will attempt to auto-complete the word you are typing\n",
    "\n",
    "**Cell Operations**\n",
    "- There are two modes in a jupyter notebook: *Edititing* mode is where you are editing text in a cell. *Command* mode is when you are outside of a cell. `Esc` while in a cell switches to command mode. `Enter` will select a cell and enter editing mode there if you are in command mode.\n",
    "- `Esc + a` makes a new cell *above* your current position \n",
    "- `Esc + b` makes a new cell *below* your current position\n",
    "- `Esc + m` converts a cell into a markdown cell\n",
    "- `Esc + y` converts a cell into a code cell.\n",
    "- `Esc + d + d` deletes a cell\n",
    "- `Esc + i + i` interrupts the execution of a cell\n",
    "- If you really get into it, you can make custom keyboard shortcuts in `Settings > Advanced Settings > Keyboard Shortcuts`\n",
    "\n",
    "There are also jupyter lab extensions that can really improve the experience of using jupyter lab. A very good list of these extensions is called [Awesome Jupyter](https://github.com/markusschanta/awesome-jupyter)."
   ]
  },
  {
   "cell_type": "code",
   "execution_count": 1,
   "id": "devoted-matter",
   "metadata": {},
   "outputs": [],
   "source": [
    "import numpy as np\n",
    "import matplotlib.pyplot as plt"
   ]
  },
  {
   "cell_type": "code",
   "execution_count": 1,
   "id": "spare-talent",
   "metadata": {},
   "outputs": [],
   "source": [
    "#this cell changes some matplotlib defaults to make plots nicer \n",
    "import matplotlib as mpl\n",
    "mpl.rc(\"font\", family='serif')\n",
    "mpl.rc(\"figure\", figsize=(9,6))\n",
    "%config InlineBackend.figure_format = 'retina'"
   ]
  },
  {
   "cell_type": "markdown",
   "id": "artificial-enhancement",
   "metadata": {},
   "source": [
    "## Random numbers and random walks\n",
    "\n",
    "Random number generation is a surprisingly tricky thing to do on a computer which we generally think of as highly non-random. Strictly speaking, we will be talking about *pseudo*random number generation since its impossible to genereate truly random numbers. However it is important enough that lots work has gone into doing it well and many of the best implementations live in the `numpy.random` module.\n",
    "\n",
    "*Note*: The `numpy.random` module was changed significantly in summer of 2019 so what you'll see today is the modern usage. For compatibility reasons, numpy still supports the old way and you may well come across older code which will look slightly different.\n",
    "\n",
    "The core of the random module is a `Generator` object. The easiest and most likely best way to initialize one is"
   ]
  },
  {
   "cell_type": "code",
   "execution_count": null,
   "id": "fantastic-safety",
   "metadata": {},
   "outputs": [],
   "source": [
    "rng = np.random.default_rng() #rng stands for Random Number Generator"
   ]
  },
  {
   "cell_type": "markdown",
   "id": "promising-nebraska",
   "metadata": {},
   "source": [
    "The `Generator` object can then generate numbers from a vast array of different distributions. You can learn about these in a statistics class but I'll show a few examples."
   ]
  },
  {
   "cell_type": "code",
   "execution_count": null,
   "id": "precise-leader",
   "metadata": {},
   "outputs": [],
   "source": [
    "#sample normal distribution"
   ]
  },
  {
   "cell_type": "code",
   "execution_count": null,
   "id": "bound-writing",
   "metadata": {},
   "outputs": [],
   "source": [
    "#show every distribution, sample gamma"
   ]
  },
  {
   "cell_type": "code",
   "execution_count": null,
   "id": "earlier-snapshot",
   "metadata": {},
   "outputs": [],
   "source": [
    "#Randomly choose from pets\n",
    "pets = ['cat', 'dog', 'fish', 'rabbit']"
   ]
  },
  {
   "cell_type": "code",
   "execution_count": null,
   "id": "speaking-lunch",
   "metadata": {},
   "outputs": [],
   "source": []
  },
  {
   "cell_type": "markdown",
   "id": "fluid-complaint",
   "metadata": {},
   "source": [
    "#### Random Walks\n",
    "\n",
    "Random walks are a *very* powerful and widely used model in basically every area of science. One of the great things about random walks is that they are very easy to simulate and often analytically tractable though the math is much beyond the scope of this bootcamp. What is a random walk?\n",
    "\n",
    "Here is the idea: a walker starts at some point and at each time point takes a \"random step.\" There are many ways to define a random step but lets focus on the simplest case in 1 dimension. \n",
    "- A walker starts at 0 on the number line.\n",
    "- The walker flips a coin.\n",
    "- If the coin comes heads, take a step to the right (+1)\n",
    "- If the coin comes up tails take a step to the left (-1)\n",
    "- Repeat this process for many time steps i.e. coin flips."
   ]
  },
  {
   "cell_type": "code",
   "execution_count": null,
   "id": "integrated-screw",
   "metadata": {},
   "outputs": [],
   "source": [
    "steps = rng.choice([-1,1], size=1000)"
   ]
  },
  {
   "cell_type": "code",
   "execution_count": null,
   "id": "portable-structure",
   "metadata": {},
   "outputs": [],
   "source": [
    "position = np.cumsum(steps)"
   ]
  },
  {
   "cell_type": "code",
   "execution_count": null,
   "id": "manufactured-ecuador",
   "metadata": {},
   "outputs": [],
   "source": [
    "plt.plot(position)\n",
    "plt.title(\"A Random Walk\")\n",
    "plt.xlabel('Time')\n",
    "plt.ylabel('Position')\n",
    "plt.show()"
   ]
  },
  {
   "cell_type": "markdown",
   "id": "black-partnership",
   "metadata": {},
   "source": [
    "#### Compiling statistics\n",
    "\n",
    "Often the idea with simulating random walkers is that we simulate many of them and the calculate statistics as a function of time. Said slightly differently, we often average over the walkers rather than averaging over time. "
   ]
  },
  {
   "cell_type": "code",
   "execution_count": null,
   "id": "fifth-alberta",
   "metadata": {},
   "outputs": [],
   "source": [
    "# generate 1000 time steps for 500 walkers\n"
   ]
  },
  {
   "cell_type": "code",
   "execution_count": null,
   "id": "unnecessary-egyptian",
   "metadata": {},
   "outputs": [],
   "source": [
    "#convert steps to positions\n"
   ]
  },
  {
   "cell_type": "code",
   "execution_count": null,
   "id": "unexpected-yorkshire",
   "metadata": {},
   "outputs": [],
   "source": [
    "# plt.plot(positions[:,0])\n",
    "# plt.title(\"10 Random Walks\")\n",
    "# plt.xlabel('Time')\n",
    "# plt.ylabel('Position')\n",
    "# plt.show()"
   ]
  },
  {
   "cell_type": "code",
   "execution_count": null,
   "id": "patient-purple",
   "metadata": {},
   "outputs": [],
   "source": [
    "# positions.shape"
   ]
  },
  {
   "cell_type": "markdown",
   "id": "advance-mechanism",
   "metadata": {},
   "source": [
    "Remember that we have 500 walkers and 1000 time steps so the first dimension in this array is time and the second dimension is the walkers."
   ]
  },
  {
   "cell_type": "code",
   "execution_count": null,
   "id": "confidential-machine",
   "metadata": {},
   "outputs": [],
   "source": [
    "# mean = positions.mean(1)\n",
    "# std = positions.std(1)"
   ]
  },
  {
   "cell_type": "code",
   "execution_count": null,
   "id": "parliamentary-group",
   "metadata": {},
   "outputs": [],
   "source": [
    "# plt.plot(std, label=\"Std. Dev.\")\n",
    "# plt.plot(mean, label='Mean')\n",
    "# # fit standard deviation\n",
    "# plt.legend()\n",
    "# plt.show()"
   ]
  },
  {
   "cell_type": "markdown",
   "id": "elementary-panel",
   "metadata": {},
   "source": [
    "#### Other questions we can ask\n",
    "\n",
    "With this set of random walker trajectories we can ask other questions beyond just calculating simple statistics. For instance, roughly what fraction of walkers only walk in the positive part of the number line?\n",
    "\n",
    "*Note* With only 500 walkers we dont really have enough to estimate complex quantites like this. Generally you might simulate as many as $10^9$ walkers but things do start to get slower at that point. "
   ]
  },
  {
   "cell_type": "code",
   "execution_count": null,
   "id": "younger-cooperation",
   "metadata": {},
   "outputs": [],
   "source": [
    "#identify positive only trajectories"
   ]
  },
  {
   "cell_type": "code",
   "execution_count": null,
   "id": "improving-broadcasting",
   "metadata": {},
   "outputs": [],
   "source": [
    "#count them"
   ]
  },
  {
   "cell_type": "code",
   "execution_count": null,
   "id": "standard-playing",
   "metadata": {},
   "outputs": [],
   "source": [
    "#select the trajectories"
   ]
  },
  {
   "cell_type": "code",
   "execution_count": null,
   "id": "general-showcase",
   "metadata": {},
   "outputs": [],
   "source": [
    "#plot "
   ]
  },
  {
   "cell_type": "markdown",
   "id": "gross-traffic",
   "metadata": {},
   "source": [
    "### Exercise 2\n",
    "\n",
    "*Note* Since we are generating random numbers your individual results may be different. \n",
    "\n",
    "\n",
    "#### Part a.\n",
    "\n",
    "Similate 100 random walkers each taking 1000 steps as above but rather than a \"coin flip\" to determine the step, have these walkers take a step to the right (+1) with probability 0.65 and a step to the left (-1) with probability 0.35 - this is often called a biased random walk. Make plot showing the trajectories of the walkers which ended up farthest from the origin and closest to the origin.\n",
    "\n",
    "*Hint* Read the documentation of `rng.choice`"
   ]
  },
  {
   "cell_type": "code",
   "execution_count": null,
   "id": "romantic-lesson",
   "metadata": {},
   "outputs": [],
   "source": []
  },
  {
   "cell_type": "markdown",
   "id": "secret-mitchell",
   "metadata": {},
   "source": [
    "#### Part b.\n",
    "\n",
    "- Compute the mean and standard deviation of these walkers as a function of time. \n",
    "- Plot the mean and standard deviation as a function of time on the same axes. \n",
    "- Plot $\\sqrt{t}$ as above and plot on the same axes. Does it still seem to describe the standard deiviation as a function of time?\n",
    "- **Optional** Can you come up with a function that describes the mean as a function of time? Plot this function as well. *Hint* How do you think the average depends on the probability of going right? Does your formula give the correct result from the demo above when $p=0.5$?"
   ]
  },
  {
   "cell_type": "code",
   "execution_count": null,
   "id": "fiscal-doubt",
   "metadata": {},
   "outputs": [],
   "source": []
  },
  {
   "cell_type": "code",
   "execution_count": null,
   "id": "unnecessary-contractor",
   "metadata": {},
   "outputs": [],
   "source": []
  },
  {
   "cell_type": "markdown",
   "id": "bibliographic-toolbox",
   "metadata": {},
   "source": [
    "So the standard deviation is about the same, it growns like $\\sqrt{t}$. The average position grows linearly in time proportional to the difference between the probability of going right and the probability of going left. It also follows from this formula that if $p_R = p_L = 0.5$ the average position is constant at 0."
   ]
  },
  {
   "cell_type": "markdown",
   "id": "united-updating",
   "metadata": {},
   "source": [
    "#### Part c. \n",
    "\n",
    "Rather than just walking up and down the number line, lets see what happens when the walk happens in two dimensions. Simulate 100 walkers each taking 1000 steps in the XY plane. Generate a 2D step by taking 2 independent samples from a standard normal distribution (mean=0, standard deviation=1). Plot 10 walks *in the XY plane*."
   ]
  },
  {
   "cell_type": "code",
   "execution_count": null,
   "id": "premier-cylinder",
   "metadata": {},
   "outputs": [],
   "source": []
  },
  {
   "cell_type": "code",
   "execution_count": null,
   "id": "civic-policy",
   "metadata": {},
   "outputs": [],
   "source": []
  },
  {
   "cell_type": "markdown",
   "id": "rational-treasure",
   "metadata": {},
   "source": [
    "#### Part d.\n",
    "\n",
    "Find the walkers which end up the farthest from the origin and the closest. Plot these two trajectories in the XY plane.\n",
    "\n",
    "*Hint* Given a point $(x,y)$ how do you compute the distance from the origin? Can you use numpy to compute the distance for all the walkers at all the time points without any loops?\n",
    "\n",
    "**Optional** Try to make this cool plot from the bootcamp flyer. Plot all the walkers in black and use the keyword `alpha=0.5` in your call to `plt.plot`. Then plot the closest and farthest walkers in red and orange respectively.\n",
    "\n",
    "<img src = \"../day2/figures/2d_walk.png\" width=400px>"
   ]
  },
  {
   "cell_type": "code",
   "execution_count": null,
   "id": "dying-maine",
   "metadata": {},
   "outputs": [],
   "source": []
  },
  {
   "cell_type": "markdown",
   "id": "amateur-prophet",
   "metadata": {},
   "source": [
    "#### Part e. \n",
    "\n",
    "Plot the trajectories of any walkers who remain in the first quadrant for their entire trajectory (i.e. $x(t)>0$ and $y(t)>0$ for all times $t$). You will probably want to simulate more walkers (~$10^5$) in order to find some who meet this criterion, it happens with probability ~0.05\\%."
   ]
  },
  {
   "cell_type": "code",
   "execution_count": null,
   "id": "conventional-chancellor",
   "metadata": {},
   "outputs": [],
   "source": []
  },
  {
   "cell_type": "markdown",
   "id": "verified-marketplace",
   "metadata": {},
   "source": [
    "### Introduction to Scipy\n",
    "\n",
    "As we have seen the past few days numpy is a highly performant array library and it contains some functions for simple math. How do we do more interesting/specialized things? People have written all sorts of libraries that use numpy arrays to do fancy things. The first layer of added complexity here is called Scipy. \n",
    "\n",
    "[Scipy Docs](https://docs.scipy.org/doc/scipy/reference/)\n",
    "\n",
    "#### Solving differential equations\n",
    "\n",
    "Generally the problem can be written as \n",
    "\n",
    "$$ \\dfrac{dy}{dt} = f(t,y).$$\n",
    "\n",
    "In some words, were given the derivative of a function and we want to find the function itself. One other key point is that we need to be given an *initial value* $y(0)$. Also note that $y$ can be a vector in which case $f(t,y)$ returns the derivative of each component.\n",
    "\n",
    "One very cool differential equation is the [Lorenz system](https://en.wikipedia.org/wiki/Lorenz_system) which is represened by the following equations:\n",
    "\n",
    "\n",
    "$$ \\frac{dx}{dt} = \\sigma(y-x)$$\n",
    "$$ \\frac{dy}{dt} = x(\\rho-z) - y$$\n",
    "$$ \\frac{dz}{dt} = xy- \\beta z.$$\n",
    "\n",
    "\n",
    "\"scipy solve differential equation\""
   ]
  },
  {
   "cell_type": "code",
   "execution_count": 5,
   "id": "proper-darkness",
   "metadata": {},
   "outputs": [],
   "source": [
    "from scipy.integrate import solve_ivp"
   ]
  },
  {
   "cell_type": "code",
   "execution_count": 3,
   "id": "pointed-toilet",
   "metadata": {},
   "outputs": [],
   "source": []
  },
  {
   "cell_type": "code",
   "execution_count": 6,
   "id": "serial-conducting",
   "metadata": {},
   "outputs": [],
   "source": []
  },
  {
   "cell_type": "code",
   "execution_count": null,
   "id": "confused-vampire",
   "metadata": {},
   "outputs": [],
   "source": []
  },
  {
   "cell_type": "code",
   "execution_count": 8,
   "id": "collaborative-leisure",
   "metadata": {},
   "outputs": [],
   "source": [
    "def lorenz(t, r, rho, sigma, beta):\n",
    "    x,y,z = r\n",
    "    dxdt = sigma*(y-x)\n",
    "    dydt = x*(rho-z) - y\n",
    "    dzdt = x*y-beta*z\n",
    "    return np.array([dxdt, dydt, dzdt])\n",
    "\n",
    "lorenz_init = np.array([1,1,1])"
   ]
  },
  {
   "cell_type": "code",
   "execution_count": 28,
   "id": "fifteen-battle",
   "metadata": {},
   "outputs": [],
   "source": [
    "#use ρ = 28, σ = 10, and β = 8/3\n",
    "lorenz_sol = None"
   ]
  },
  {
   "cell_type": "code",
   "execution_count": 16,
   "id": "smooth-peripheral",
   "metadata": {},
   "outputs": [],
   "source": [
    "t_eval = np.linspace(0, 100, 10000)"
   ]
  },
  {
   "cell_type": "code",
   "execution_count": 17,
   "id": "neural-sheffield",
   "metadata": {},
   "outputs": [],
   "source": []
  },
  {
   "cell_type": "code",
   "execution_count": 26,
   "id": "affiliated-concentrate",
   "metadata": {},
   "outputs": [],
   "source": [
    "#plot x y"
   ]
  },
  {
   "cell_type": "code",
   "execution_count": 27,
   "id": "front-greene",
   "metadata": {},
   "outputs": [],
   "source": [
    "#plot y z"
   ]
  },
  {
   "cell_type": "code",
   "execution_count": 29,
   "id": "assumed-finder",
   "metadata": {},
   "outputs": [],
   "source": [
    "# This is beyond the scope of this bootcamp but just to show you that its possible\n",
    "# I google \"matplotlib 3d plot example\" every single time I do this\n",
    "# from mpl_toolkits.mplot3d import Axes3D\n",
    "# fig = plt.figure()\n",
    "# ax = fig.add_subplot(111, projection='3d')\n",
    "# fig.suptitle(r\"Lorenz Attractor\", fontsize=20)\n",
    "# ax.plot(r[0], r[1], r[2], linewidth=0.5,c='xkcd:purple')\n",
    "# ax.set_xlabel('X')\n",
    "# ax.set_ylabel('Y')\n",
    "# ax.set_zlabel('Z')\n",
    "# plt.show()"
   ]
  },
  {
   "cell_type": "code",
   "execution_count": null,
   "id": "extended-fundamental",
   "metadata": {},
   "outputs": [],
   "source": []
  }
 ],
 "metadata": {
  "kernelspec": {
   "display_name": "Python 3",
   "language": "python",
   "name": "python3"
  },
  "language_info": {
   "codemirror_mode": {
    "name": "ipython",
    "version": 3
   },
   "file_extension": ".py",
   "mimetype": "text/x-python",
   "name": "python",
   "nbconvert_exporter": "python",
   "pygments_lexer": "ipython3",
   "version": "3.8.6"
  }
 },
 "nbformat": 4,
 "nbformat_minor": 5
}
