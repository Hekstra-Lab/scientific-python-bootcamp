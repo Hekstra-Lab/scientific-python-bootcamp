{
 "cells": [
  {
   "cell_type": "markdown",
   "id": "exclusive-reference",
   "metadata": {},
   "source": [
    "This notebook was used to preprocess the taxi dataset to be a smaller size for the bootcamp.\n",
    "\n",
    "THe original dataset comes from: https://www1.nyc.gov/site/tlc/about/tlc-trip-record-data.page\n",
    "\n",
    "The goal here is to do some basic data cleaning and select a subset. This makes the dataset we use for the bootcamp both nice, and also adequately small to be easy to distribute."
   ]
  },
  {
   "cell_type": "code",
   "execution_count": 3,
   "id": "painful-ladder",
   "metadata": {},
   "outputs": [],
   "source": [
    "import pandas as pd\n",
    "import numpy as np\n",
    "df = pd.read_csv('/home/ian/Downloads/yellow_tripdata_2016-01.csv')\n",
    "drop_cols = [\n",
    "    \"RatecodeID\",\n",
    "    \"store_and_fwd_flag\",\n",
    "    \"payment_type\",\n",
    "    \"extra\",\n",
    "    \"mta_tax\",\n",
    "    \"tip_amount\",\n",
    "    \"tolls_amount\",\n",
    "    \"improvement_surcharge\",\n",
    "    \"VendorID\",\n",
    "    \"tpep_pickup_datetime\",\n",
    "    \"tpep_dropoff_datetime\"\n",
    "]\n",
    "df = df.drop(drop_cols, 1)\n",
    "\n",
    "long = df['pickup_longitude']\n",
    "lat = df['pickup_latitude']\n",
    "idx = (-75 < long) & (long < -73)\n",
    "idx = idx & ((40 < lat ) & (lat <41))\n",
    "d = df[idx]\n",
    "d\n",
    "long = df['pickup_longitude']\n",
    "idx = (long > -73.8) | (long <-74.1)\n",
    "d = df[~idx]"
   ]
  },
  {
   "cell_type": "code",
   "execution_count": 5,
   "id": "traditional-canyon",
   "metadata": {},
   "outputs": [
    {
     "name": "stdout",
     "output_type": "stream",
     "text": [
      "1048658\n"
     ]
    }
   ],
   "source": [
    "ratio = .1\n",
    "n_remove = int(len(d)*(1-ratio))\n",
    "drop_indices = np.random.choice(d.index, n_remove, replace=False)\n",
    "subset = d.drop(drop_indices)\n",
    "# subset = d.iloc[drop_indices]\n",
    "print(len(subset))\n"
   ]
  },
  {
   "cell_type": "code",
   "execution_count": 6,
   "id": "celtic-translation",
   "metadata": {},
   "outputs": [],
   "source": [
    "subset.to_csv('taxi_data-2016.dat', compression='zip')\n"
   ]
  },
  {
   "cell_type": "code",
   "execution_count": null,
   "id": "nonprofit-insurance",
   "metadata": {},
   "outputs": [],
   "source": []
  }
 ],
 "metadata": {
  "kernelspec": {
   "display_name": "Python 3",
   "language": "python",
   "name": "python3"
  },
  "language_info": {
   "codemirror_mode": {
    "name": "ipython",
    "version": 3
   },
   "file_extension": ".py",
   "mimetype": "text/x-python",
   "name": "python",
   "nbconvert_exporter": "python",
   "pygments_lexer": "ipython3",
   "version": "3.8.5"
  }
 },
 "nbformat": 4,
 "nbformat_minor": 5
}
