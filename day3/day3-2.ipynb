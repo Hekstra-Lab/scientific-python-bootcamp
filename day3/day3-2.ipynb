{
 "cells": [
  {
   "cell_type": "markdown",
   "id": "blocked-guinea",
   "metadata": {},
   "source": [
    "# Ecosystem\n",
    "\n",
    "A quick overview of more of the ecosystem and some awesome things you should know about.\n",
    "\n",
    "\n",
    "## Tabular Data - Pandas\n",
    "\n",
    "https://pandas.pydata.org/\n",
    "\n",
    "Lets look at NYC Taxi trips in 2016\n",
    "\n",
    "Data from here: https://www1.nyc.gov/site/tlc/about/tlc-trip-record-data.page\n",
    "\n",
    "Inspired by https://towardsdatascience.com/if-taxi-trips-were-fireflies-1-3-billion-nyc-taxi-trips-plotted-b34e89f96cfa\n",
    "\n",
    "### Things I googled:\n",
    "I'm less familiar with pandas so here's just a few of the things I found myself googling when cleaning and experimenting with visualizing this dataset\n",
    "\n",
    "- remove outliers pandas  \n",
    "- remove rows pandas  \n",
    "- remove specific row pandas  \n",
    "- drop rows based on column value pandas  \n",
    "- drop columns pandas  \n",
    "- select random rows from pandas\n"
   ]
  },
  {
   "cell_type": "code",
   "execution_count": null,
   "id": "binding-ultimate",
   "metadata": {},
   "outputs": [],
   "source": [
    "import pandas as pd\n",
    "import numpy as np\n",
    "import matplotlib.pyplot as plt"
   ]
  },
  {
   "cell_type": "code",
   "execution_count": null,
   "id": "danish-canada",
   "metadata": {},
   "outputs": [],
   "source": [
    "df = pd.read_csv('taxi_data-2016.dat', compression='zip')"
   ]
  },
  {
   "cell_type": "code",
   "execution_count": null,
   "id": "formed-discount",
   "metadata": {},
   "outputs": [],
   "source": []
  },
  {
   "cell_type": "markdown",
   "id": "several-monaco",
   "metadata": {},
   "source": [
    "### Plotting lots of scatter points is sloooooooow\n",
    "\n",
    "Googled stuff:\n",
    "- scatter plot slow matplotlib\n",
    "- scatter plot many points matplotlib\n",
    "- scatter plot a large number of points fast matplotlib\n",
    "\n",
    "ended up finding https://github.com/astrofrog/mpl-scatter-density\n",
    "\n",
    "\n",
    "how do we install this???\n",
    "\n",
    "\n",
    "For setting up a local python install we recommend:\n",
    "https://www.anaconda.com/products/individual\n",
    "or the fully open source version: https://github.com/conda-forge/miniforge"
   ]
  },
  {
   "cell_type": "code",
   "execution_count": null,
   "id": "contained-omega",
   "metadata": {},
   "outputs": [],
   "source": [
    "# copy paste the example exactly from the docs.\n",
    "\n"
   ]
  },
  {
   "cell_type": "code",
   "execution_count": null,
   "id": "developed-begin",
   "metadata": {},
   "outputs": [],
   "source": [
    "# adapt it to our needs\n",
    "# import mpl_scatter_density\n",
    "\n",
    "# fig  = plt.figure()\n",
    "# ax = fig.add_subplot(1, 1, 1, projection='scatter_density')\n",
    "# ax.scatter_density(loaded['pickup_longitude'], loaded['pickup_latitude'])\n",
    "# ax.set_ylim(40.6, 40.851)\n",
    "# ax.set_xlim([-74.05, -73.7])\n",
    "# ax.set_aspect('equal')\n"
   ]
  },
  {
   "cell_type": "code",
   "execution_count": null,
   "id": "composite-safety",
   "metadata": {},
   "outputs": [],
   "source": [
    "# make it better\n",
    "\n",
    "# fig  = plt.figure()\n",
    "# ax = fig.add_subplot(1, 1, 1, projection='scatter_density')\n",
    "# # ax2 = fig.add_subplot(1, 2, 1, projection='scatter_density')\n",
    "# # ax.scatter_density(d['dropoff_longitude'], d['dropoff_latitude'])\n",
    "# # norm = ImageNormalize(vmin=0., vmax=1000, stretch=LogStretch())\n",
    "# # ax.scatter_density(subset['pickup_longitude'], subset['pickup_latitude'])\n",
    "# ax.scatter_density(loaded['pickup_longitude'], loaded['pickup_latitude'])\n",
    "# ax.set_ylim(40.6, 40.851)\n",
    "# ax.set_xlim([-74.05, -73.7])\n",
    "# ax.set_aspect('equal')\n",
    "# # fig.savefig('gaussian.png')\n"
   ]
  },
  {
   "cell_type": "code",
   "execution_count": null,
   "id": "statistical-lodging",
   "metadata": {},
   "outputs": [],
   "source": [
    "# following the documentation of mpl-scatter-density\n",
    "# # we can look at the high dynamic range\n",
    "\n",
    "# from astropy.visualization import LogStretch\n",
    "# from astropy.visualization.mpl_normalize import ImageNormalize\n",
    "\n",
    "# fig  = plt.figure()\n",
    "# ax = fig.add_subplot(1, 1, 1, projection='scatter_density')\n",
    "\n",
    "\n",
    "# # this line is new\n",
    "# norm = ImageNormalize(vmin=0., vmax=1000, stretch=LogStretch())\n",
    "\n",
    "# ax.scatter_density(d['pickup_longitude'], d['pickup_latitude'], norm=norm)\n",
    "# # ax.scatter_density(loaded['pickup_longitude'], loaded['pickup_latitude'], norm=norm)\n",
    "# ax.set_ylim(40.6, 40.851)\n",
    "# ax.set_xlim([-74.05, -73.7])\n",
    "# ax.set_aspect('equal')\n"
   ]
  },
  {
   "cell_type": "code",
   "execution_count": null,
   "id": "widespread-secretariat",
   "metadata": {},
   "outputs": [],
   "source": [
    "# fares = df['fare_amount']\n",
    "# tips = df['tip_amount']\n",
    "\n",
    "# reasonable_fares = fares[(0<fares) & (fares <75)]\n",
    "# reasonable_tips = tips[(0<tips) & (tips <100)]\n",
    "\n",
    "\n",
    "# plt.figure()\n",
    "# reasonable_tips.hist(bins=100, density=True, label='tips')\n",
    "# reasonable_fares.hist(bins=100, density=True, label='fare', alpha=.75)\n",
    "# plt.xlabel('$')\n",
    "# plt.legend()"
   ]
  },
  {
   "cell_type": "markdown",
   "id": "black-symbol",
   "metadata": {},
   "source": [
    "# Working with Images - Scikit-Image\n",
    "\n",
    "https://scikit-image.org/"
   ]
  },
  {
   "cell_type": "markdown",
   "id": "serious-great",
   "metadata": {},
   "source": [
    "# Fitting Data / Machine Learning - Scikit-Learn\n",
    "\n",
    "\n",
    "\n",
    "\n",
    "https://scikit-learn.org/\n",
    "\n",
    "For simple curve fitting also see:\n",
    "- https://docs.scipy.org/doc/scipy/reference/generated/scipy.optimize.curve_fit.html\n",
    "- https://lmfit.github.io/lmfit-py/\n",
    "\n"
   ]
  },
  {
   "cell_type": "markdown",
   "id": "bridal-tokyo",
   "metadata": {},
   "source": [
    "# Interactive Widgets\n",
    "\n",
    "\n",
    "- [ipympl](https://github.com/matplotlib/ipympl#ipympl)\n",
    "- [ipycytoscape](https://ipycytoscape.readthedocs.io/en/latest/index.html)\n",
    "- [ipycanvas](https://ipycanvas.readthedocs.io/en/latest/)\n",
    "- [ipyleaflet](https://github.com/jupyter-widgets/ipyleaflet#usage)\n",
    "- [bqplot](https://github.com/bqplot/bqplot#usage)\n",
    "\n",
    "\n",
    "\n",
    "\n",
    "Made by Ian:\n",
    "https://mpl-interactions.readthedocs.io/en/stable/\n",
    "\n",
    "Example of ODEs: https://mpl-interactions.readthedocs.io/en/stable/examples/Lotka-Volterra.html"
   ]
  },
  {
   "cell_type": "code",
   "execution_count": null,
   "id": "industrial-audit",
   "metadata": {},
   "outputs": [],
   "source": [
    "# imports\n",
    "%matplotlib ipympl\n",
    "import matplotlib.pyplot as plt\n",
    "import numpy as np\n",
    "\n",
    "import mpl_interactions.ipyplot as iplt"
   ]
  },
  {
   "cell_type": "code",
   "execution_count": null,
   "id": "nominated-brunei",
   "metadata": {},
   "outputs": [],
   "source": [
    "# define the function\n",
    "def f(x, tau, beta):\n",
    "    return np.sin(x * tau) * x ** beta\n",
    "\n",
    "\n",
    "x = np.linspace(0, 2 * np.pi, 1000)\n",
    "tau = np.linspace(5, 10)\n",
    "beta = np.linspace(0.25, 1)\n"
   ]
  },
  {
   "cell_type": "code",
   "execution_count": null,
   "id": "intelligent-hawaiian",
   "metadata": {},
   "outputs": [],
   "source": [
    "# make the interactive figure\n",
    "\n",
    "fig, ax = plt.subplots()\n",
    "controls = iplt.plot(x, f, tau=tau, beta=beta)\n"
   ]
  },
  {
   "cell_type": "markdown",
   "id": "round-imagination",
   "metadata": {},
   "source": [
    "# Thanks for attending!\n",
    "\n",
    "Final feedback form: https://forms.gle/bPYeNxS42NWTSCg48\n",
    "(We've really appreciated the feedback the previous two days)\n",
    "\n",
    "Feel free to:\n",
    "- ask any questions\n",
    "- Email us with questions/suggestions\n",
    "- Share these materials with anyone\n",
    "    - https://github.com/Hekstra-Lab/scientific-python-bootcamp/tree/2021-Spring\n",
    "    - Open an issue here: https://github.com/Hekstra-Lab/scientific-python-bootcamp/issues\n"
   ]
  }
 ],
 "metadata": {
  "kernelspec": {
   "display_name": "Python 3",
   "language": "python",
   "name": "python3"
  },
  "language_info": {
   "codemirror_mode": {
    "name": "ipython",
    "version": 3
   },
   "file_extension": ".py",
   "mimetype": "text/x-python",
   "name": "python",
   "nbconvert_exporter": "python",
   "pygments_lexer": "ipython3",
   "version": "3.8.5"
  }
 },
 "nbformat": 4,
 "nbformat_minor": 5
}
